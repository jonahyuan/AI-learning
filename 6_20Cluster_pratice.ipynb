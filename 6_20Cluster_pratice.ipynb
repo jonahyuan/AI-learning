{
  "nbformat": 4,
  "nbformat_minor": 0,
  "metadata": {
    "colab": {
      "name": "6/20Cluster-pratice.ipynb",
      "provenance": [],
      "authorship_tag": "ABX9TyMeh1Fd9zk6Cxx2OEOO64qd",
      "include_colab_link": true
    },
    "kernelspec": {
      "name": "python3",
      "display_name": "Python 3"
    },
    "language_info": {
      "name": "python"
    }
  },
  "cells": [
    {
      "cell_type": "markdown",
      "metadata": {
        "id": "view-in-github",
        "colab_type": "text"
      },
      "source": [
        "<a href=\"https://colab.research.google.com/github/jonahyuan/AI-learning/blob/main/6_20Cluster_pratice.ipynb\" target=\"_parent\"><img src=\"https://colab.research.google.com/assets/colab-badge.svg\" alt=\"Open In Colab\"/></a>"
      ]
    },
    {
      "cell_type": "code",
      "execution_count": 1,
      "metadata": {
        "id": "33av92warlHL"
      },
      "outputs": [],
      "source": [
        "from sklearn.datasets import load_iris\n",
        "iris = load_iris()"
      ]
    },
    {
      "cell_type": "code",
      "source": [
        "import pandas as pd \n",
        "df = pd.DataFrame(iris[\"data\"], columns=iris[\"feature_names\"])\n",
        "df[\"target\"] = iris[\"target\"]\n",
        "df.to_csv(\"iris.csv\", encoding=\"utf-8\", index=False)\n",
        "df"
      ],
      "metadata": {
        "id": "dMMucVf4r2h_"
      },
      "execution_count": null,
      "outputs": []
    },
    {
      "cell_type": "code",
      "source": [
        "from sklearn.model_selection import train_test_split\n",
        "x_train, x_test, y_train, y_test = train_test_split(iris[\"data\"], iris[\"target\"], test_size=0.1)"
      ],
      "metadata": {
        "id": "vob8rL5Rr8i0"
      },
      "execution_count": 3,
      "outputs": []
    },
    {
      "cell_type": "code",
      "source": [
        "from sklearn.cluster import KMeans\n",
        "clu = KMeans(n_clusters=3)\n",
        "clu.fit(x_train)"
      ],
      "metadata": {
        "colab": {
          "base_uri": "https://localhost:8080/"
        },
        "id": "kXp1N_C0sAz0",
        "outputId": "31007244-e194-4339-b692-ac5b7418c7cf"
      },
      "execution_count": 4,
      "outputs": [
        {
          "output_type": "execute_result",
          "data": {
            "text/plain": [
              "KMeans(n_clusters=3)"
            ]
          },
          "metadata": {},
          "execution_count": 4
        }
      ]
    },
    {
      "cell_type": "code",
      "source": [
        "clu.labels_"
      ],
      "metadata": {
        "colab": {
          "base_uri": "https://localhost:8080/"
        },
        "id": "mTda3TzowV8o",
        "outputId": "2eac6c1a-8a62-4eba-d61a-a9fcad1ea43f"
      },
      "execution_count": 5,
      "outputs": [
        {
          "output_type": "execute_result",
          "data": {
            "text/plain": [
              "array([2, 2, 1, 1, 1, 2, 1, 2, 2, 0, 2, 2, 1, 2, 1, 2, 1, 1, 0, 2, 0, 2,\n",
              "       1, 1, 2, 1, 2, 2, 2, 0, 1, 1, 1, 2, 0, 1, 0, 0, 0, 2, 1, 0, 0, 0,\n",
              "       1, 1, 2, 0, 1, 2, 0, 2, 0, 0, 0, 0, 0, 1, 0, 2, 1, 1, 2, 0, 2, 2,\n",
              "       2, 2, 2, 2, 0, 0, 2, 1, 2, 0, 2, 1, 2, 2, 0, 0, 1, 0, 0, 2, 0, 0,\n",
              "       0, 0, 2, 0, 2, 2, 0, 2, 0, 2, 0, 0, 2, 1, 2, 1, 1, 0, 1, 1, 2, 1,\n",
              "       0, 1, 0, 0, 0, 2, 1, 2, 2, 2, 2, 2, 2, 1, 1, 1, 2, 0, 0, 2, 2, 2,\n",
              "       1, 2, 0], dtype=int32)"
            ]
          },
          "metadata": {},
          "execution_count": 5
        }
      ]
    },
    {
      "cell_type": "code",
      "source": [
        "pre = clu.predict(x_test)\n",
        "from sklearn.metrics import accuracy_score\n",
        "accuracy_score(pre, y_test)"
      ],
      "metadata": {
        "id": "Ne9baCf6sCbq"
      },
      "execution_count": null,
      "outputs": []
    },
    {
      "cell_type": "code",
      "source": [
        "from sklearn.metrics import confusion_matrix\n",
        "pd.DataFrame(confusion_matrix(y_test, pre))"
      ],
      "metadata": {
        "id": "M8HFRWTtsHyI"
      },
      "execution_count": null,
      "outputs": []
    },
    {
      "cell_type": "code",
      "source": [
        "from sklearn.metrics import silhouette_score\n",
        "x = df.drop([\"target\"],axis=1)\n",
        "plotx = []\n",
        "ploty = []\n",
        "for k in range(2, 6):\n",
        "  clu = KMeans(n_clusters=k)\n",
        "  clu.fit(x)\n",
        "  s = silhouette_score(x, clu.labels_)\n",
        "  plotx.append(k)\n",
        "  ploty.append(s)\n",
        "print(\"K值:\", plotx)\n",
        "print(\"Score:\", ploty)"
      ],
      "metadata": {
        "id": "0l8_0mX51CEE"
      },
      "execution_count": null,
      "outputs": []
    },
    {
      "cell_type": "code",
      "source": [
        "import matplotlib.pyplot as plt\n",
        "plt.title(\"Sihouette Score\")\n",
        "plt.xlabel(\"K\")\n",
        "plt.ylabel(\"Score\")\n",
        "plt.plot(plotx, ploty, \"mv:\")"
      ],
      "metadata": {
        "colab": {
          "base_uri": "https://localhost:8080/",
          "height": 312
        },
        "id": "LmDmzoIt4HX1",
        "outputId": "53d22808-2ea9-492e-c2fa-ee09efe5c2d8"
      },
      "execution_count": 15,
      "outputs": [
        {
          "output_type": "execute_result",
          "data": {
            "text/plain": [
              "[<matplotlib.lines.Line2D at 0x7f2cf7545290>]"
            ]
          },
          "metadata": {},
          "execution_count": 15
        },
        {
          "output_type": "display_data",
          "data": {
            "text/plain": [
              "<Figure size 432x288 with 1 Axes>"
            ],
            "image/png": "[encoded data removed]"
          },
          "metadata": {
            "needs_background": "light"
          }
        }
      ]
    }
  ]
}