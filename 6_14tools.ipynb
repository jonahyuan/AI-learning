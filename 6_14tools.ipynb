{
  "nbformat": 4,
  "nbformat_minor": 0,
  "metadata": {
    "colab": {
      "name": "6/14tools.ipynb",
      "provenance": [],
      "authorship_tag": "ABX9TyPG/Ty+aR0eYrJ5ZwFGEnQ9",
      "include_colab_link": true
    },
    "kernelspec": {
      "name": "python3",
      "display_name": "Python 3"
    },
    "language_info": {
      "name": "python"
    }
  },
  "cells": [
    {
      "cell_type": "markdown",
      "metadata": {
        "id": "view-in-github",
        "colab_type": "text"
      },
      "source": [
        "<a href=\"https://colab.research.google.com/github/jonahyuan/AI-learning/blob/main/6_14tools.ipynb\" target=\"_parent\"><img src=\"https://colab.research.google.com/assets/colab-badge.svg\" alt=\"Open In Colab\"/></a>"
      ]
    },
    {
      "cell_type": "code",
      "execution_count": 1,
      "metadata": {
        "colab": {
          "base_uri": "https://localhost:8080/"
        },
        "id": "0564FOeOzPog",
        "outputId": "1d8ebb3f-3778-4d23-c27f-48ff05bd0341"
      },
      "outputs": [
        {
          "output_type": "stream",
          "name": "stdout",
          "text": [
            "Looking in indexes: https://pypi.org/simple, https://us-python.pkg.dev/colab-wheels/public/simple/\n",
            "Collecting opencc-python-reimplemented\n",
            "  Downloading opencc-python-reimplemented-0.1.6.tar.gz (484 kB)\n",
            "\u001b[K     |████████████████████████████████| 484 kB 5.1 MB/s \n",
            "\u001b[?25hBuilding wheels for collected packages: opencc-python-reimplemented\n",
            "  Building wheel for opencc-python-reimplemented (setup.py) ... \u001b[?25l\u001b[?25hdone\n",
            "  Created wheel for opencc-python-reimplemented: filename=opencc_python_reimplemented-0.1.6-py2.py3-none-any.whl size=486152 sha256=0ac85d9b7cf824e7c103bf21f9b7c271510b893c63e15d4be646ebbbe08b7ffb\n",
            "  Stored in directory: /root/.cache/pip/wheels/4e/e2/60/d062d260be08788bb389521544a8fc173de9a9a78d6a593344\n",
            "Successfully built opencc-python-reimplemented\n",
            "Installing collected packages: opencc-python-reimplemented\n",
            "Successfully installed opencc-python-reimplemented-0.1.6\n"
          ]
        }
      ],
      "source": [
        "!pip install opencc-python-reimplemented"
      ]
    },
    {
      "cell_type": "code",
      "source": [
        "from opencc import OpenCC\n",
        "cc = OpenCC('s2tw')  # convert from Simplified Chinese to Traditional Chinese\n",
        "# can also set conversion by calling set_conversion\n",
        "# cc.set_conversion('s2tw')\n",
        "to_convert = '开放中文转换'\n",
        "converted = cc.convert(to_convert)\n",
        "converted"
      ],
      "metadata": {
        "colab": {
          "base_uri": "https://localhost:8080/",
          "height": 36
        },
        "id": "1Ostotxe0Afg",
        "outputId": "067d1b61-2d8a-4f99-c59e-c31465059f41"
      },
      "execution_count": 3,
      "outputs": [
        {
          "output_type": "execute_result",
          "data": {
            "text/plain": [
              "'開放中文轉換'"
            ],
            "application/vnd.google.colaboratory.intrinsic+json": {
              "type": "string"
            }
          },
          "metadata": {},
          "execution_count": 3
        }
      ]
    },
    {
      "cell_type": "code",
      "source": [
        "news = \"\"\"高雄日前爆出劣質FLOWFLEX富樂快篩試劑無法判讀引發關注，新竹地檢署分案調查發現，進口商大鑫資訊公司得標高雄、台中、新竹等10多項政府採購快篩試劑案後，涉嫌違法進口中國大陸劣質「富樂家用新冠抗原快速檢測試劑FlowflexCOVID-19AntigenHomeTest」，混充美國製交貨，藉此牟取巨額暴利。\n",
        "\n",
        "檢察官翁貫育今（13）天指揮調查局台北市調查處及新竹縣調查站搜索大鑫公司、倉庫及負責人住家等共5處所，查扣富樂家用新冠抗原快速檢測試劑1400箱以上、超過45萬支試劑，並同步約談犯罪嫌疑人公司負責人朱壽暉、執行長黃南競等5人到案，目前正由調查官詢問中，晚間將移送新竹地檢署複訊。\n",
        "\n",
        "調查局指出，大鑫公司於111年5月10日獲食藥署核准輸入由美國Laboratories,Inc.製造已獲FDA緊急授權使用（EUA）之「富樂家用新冠抗原快速檢測試劑Flowflex COVID-19 Antigen Home Test」，取得國防部軍醫局、新竹縣竹北市公所、台中市政府衛生局、高雄市政府衛生局等十餘件政府採購標案。\n",
        "\n",
        "調查局續指，大鑫公司交貨時竟委託中國大陸艾康生物技術（杭州）有限公司生產包裝後運送至香港，再由香港以空運方式運送來台，並不實標示產地為「USA」，該公司不到1個月時間內已進口約237萬劑，但履約交付政府機關後發送民眾後，卻陸續經民眾反映無法呈現測試線（T）、品管線（C）之檢測結果。\n",
        "\n",
        "檢調查出，大鑫公司實際輸入產品與食藥署核准專案進口之「富樂家用新冠抗原快速檢測試劑FlowflexCOVID-19AntigenHomeTest」不同，除涉有產地虛偽標記外，品質也不良，相關人員已涉嫌違反《醫療器材管理法》及妨害農工商、詐欺等罪嫌。\n",
        "\n",
        "調查局表示，值此新冠肺炎疫情肆虐期間，調查局特訂定「嚴重特殊傳染性肺炎防疫專案」，加強監控有無不法業者因貪圖利益而進口未經核准輸入或品質不良之醫材；呼籲民眾若發現市面上出現非法醫材，請立即向調查局提出檢舉，調查局一定積極追查偵辦，以期維護國人健康。\"\"\""
      ],
      "metadata": {
        "id": "Wm5xSC_B6gf4"
      },
      "execution_count": 4,
      "outputs": []
    },
    {
      "cell_type": "code",
      "source": [
        "import jieba\n",
        "from urllib.request import urlretrieve\n",
        "url = \"https://github.com/fxsjy/jieba/raw/master/extra_dict/dict.txt.big\"\n",
        "urlretrieve(url, \"dict.txt.big\")\n",
        "jieba.set_dictionary(\"dict.txt.big\")"
      ],
      "metadata": {
        "id": "ZBzpIdDdF2kS"
      },
      "execution_count": 14,
      "outputs": []
    },
    {
      "cell_type": "code",
      "source": [
        "import jieba\n",
        "\" \".join(jieba.cut(news))"
      ],
      "metadata": {
        "colab": {
          "base_uri": "https://localhost:8080/",
          "height": 262
        },
        "id": "3BuIswh7CQ4f",
        "outputId": "2a92a7a1-f800-4afc-9686-ffc04b3ecf76"
      },
      "execution_count": 15,
      "outputs": [
        {
          "output_type": "stream",
          "name": "stderr",
          "text": [
            "Building prefix dict from /content/dict.txt.big ...\n",
            "Dumping model to file cache /tmp/jieba.u501edca284da514cb68b53a20324f4e3.cache\n",
            "Loading model cost 1.953 seconds.\n",
            "Prefix dict has been built successfully.\n"
          ]
        },
        {
          "output_type": "execute_result",
          "data": {
            "text/plain": [
              "'高雄 日前 爆出 劣質 FLOWFLEX 富樂快 篩 試劑 無法 判讀 引發 關注 ， 新竹 地檢署 分案 調查 發現 ， 進口商 大鑫 資訊 公司 得 標高 雄 、 台 中 、 新竹 等 10 多項 政府 採購 快 篩 試劑 案 後 ， 涉嫌 違法 進口 中國 大陸 劣質 「 富樂 家用 新冠 抗原 快速 檢測 試劑 FlowflexCOVID - 19AntigenHomeTest 」 ， 混充 美國 製 交貨 ， 藉此 牟取 巨額 暴利 。 \\n \\n 檢察官 翁貫育 今 （ 13 ） 天 指揮 調查局 台北市 調查 處及 新竹縣 調查 站 搜索 大鑫 公司 、 倉庫 及 負責人 住家 等 共 5 處所 ， 查扣 富樂 家用 新冠 抗原 快速 檢測 試劑 1400 箱 以上 、 超過 45 萬支 試劑 ， 並 同步 約談 犯罪 嫌疑人 公司 負責人 朱壽暉 、 執行長 黃南 競等 5 人 到案 ， 目前 正由 調查 官 詢問 中 ， 晚間 將 移送 新竹 地檢署 複 訊 。 \\n \\n 調查局 指出 ， 大鑫 公司 於 111 年 5 月 10 日 獲食 藥署 核准 輸入 由 美國 Laboratories , Inc . 製造 已獲 FDA 緊急 授權 使用 （ EUA ） 之 「 富樂 家用 新冠 抗原 快速 檢測 試劑 Flowflex   COVID - 19   Antigen   Home   Test 」 ， 取得 國防部 軍醫 局 、 新竹縣 竹北 市公所 、 台中市 政府 衛生局 、 高雄市 政府 衛生局 等 十餘件 政府 採購 標案 。 \\n \\n 調查局 續指 ， 大鑫 公司 交貨 時竟 委託 中國 大陸 艾康 生物 技術 （ 杭州 ） 有限公司 生產 包裝 後 運送 至 香港 ， 再 由 香港 以 空運 方式 運 送來 台 ， 並不實 標示 產地 為 「 USA 」 ， 該 公司 不到 1 個 月 時間 內 已 進口 約 237 萬劑 ， 但 履約 交付 政府 機關 後 發送 民眾 後 ， 卻 陸續 經民眾 反映 無法 呈現 測試 線 （ T ） 、 品 管線 （ C ） 之 檢測 結果 。 \\n \\n 檢 調查 出 ， 大鑫 公司 實際 輸入 產品 與 食藥署 核准 專案 進口 之 「 富樂 家用 新冠 抗原 快速 檢測 試劑 FlowflexCOVID - 19AntigenHomeTest 」 不同 ， 除涉 有 產地 虛偽 標記 外 ， 品質 也 不良 ， 相關 人員 已 涉嫌 違反 《 醫療 器材 管理法 》 及 妨害 農工商 、 詐欺 等 罪嫌 。 \\n \\n 調查局 表示 ， 值此 新冠 肺炎 疫情 肆虐 期間 ， 調查局 特訂 定 「 嚴重 特殊 傳染性 肺炎 防疫 專案 」 ， 加強 監控 有 無不 法 業者 因 貪圖 利益 而 進口 未經 核准 輸入 或 品質 不良 之醫材 ； 呼籲 民眾 若 發現 市面上 出現 非 法醫 材 ， 請 立即 向 調查局 提出 檢舉 ， 調查局 一定 積極 追查 偵辦 ， 以期 維護 國人 健康 。'"
            ],
            "application/vnd.google.colaboratory.intrinsic+json": {
              "type": "string"
            }
          },
          "metadata": {},
          "execution_count": 15
        }
      ]
    },
    {
      "cell_type": "code",
      "source": [
        "import jieba.analyse\n",
        "jieba.analyse.extract_tags(news)\n",
        "jieba.analyse.extract_tags(news, withWeight=True)\n",
        "jieba.analyse.extract_tags(news, topK=None,  withWeight=True, allowPOS=[\"nr\", 'ns', \"nt\", \"nw\", \"nz\"])"
      ],
      "metadata": {
        "colab": {
          "base_uri": "https://localhost:8080/"
        },
        "id": "Ap8syvoF7B5o",
        "outputId": "51efff0b-493d-4211-8092-53e575f14cc6"
      },
      "execution_count": 9,
      "outputs": [
        {
          "output_type": "execute_result",
          "data": {
            "text/plain": [
              "[('富樂', 1.8679324223281248),\n",
              " ('新竹', 1.5545990520921875),\n",
              " ('大鑫', 1.462931634325),\n",
              " ('衛生局', 0.74717296893125),\n",
              " ('商大鑫', 0.373586484465625),\n",
              " ('國大陸', 0.373586484465625),\n",
              " ('朱壽暉', 0.373586484465625),\n",
              " ('黃南競', 0.373586484465625),\n",
              " ('美國', 0.373586484465625),\n",
              " ('軍醫局', 0.373586484465625),\n",
              " ('竹北', 0.373586484465625),\n",
              " ('萬劑', 0.373586484465625),\n",
              " ('香港', 0.36325724041875),\n",
              " ('藉此', 0.347752779053125),\n",
              " ('高雄市', 0.336411982375),\n",
              " ('台中市', 0.3325806598125),\n",
              " ('台北市', 0.3025365608375),\n",
              " ('高雄', 0.292752442463125),\n",
              " ('杭州', 0.1988348435065625)]"
            ]
          },
          "metadata": {},
          "execution_count": 9
        }
      ]
    }
  ]
}