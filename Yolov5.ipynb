{
  "nbformat": 4,
  "nbformat_minor": 0,
  "metadata": {
    "colab": {
      "name": "Yolov5.ipynb",
      "provenance": [],
      "collapsed_sections": [],
      "mount_file_id": "1ltDhlr6i2wKk0s0vFCyCPkhm4lyoaQ-e",
      "authorship_tag": "ABX9TyPWDt8dJtTVV//cxjawsHJC",
      "include_colab_link": true
    },
    "kernelspec": {
      "name": "python3",
      "display_name": "Python 3"
    },
    "language_info": {
      "name": "python"
    },
    "accelerator": "GPU",
    "gpuClass": "standard"
  },
  "cells": [
    {
      "cell_type": "markdown",
      "metadata": {
        "id": "view-in-github",
        "colab_type": "text"
      },
      "source": [
        "<a href=\"https://colab.research.google.com/github/jonahyuan/AI-learning/blob/main/Yolov5.ipynb\" target=\"_parent\"><img src=\"https://colab.research.google.com/assets/colab-badge.svg\" alt=\"Open In Colab\"/></a>"
      ]
    },
    {
      "cell_type": "code",
      "execution_count": 1,
      "metadata": {
        "id": "W4XvAtEFDKC2"
      },
      "outputs": [],
      "source": [
        "%%capture\n",
        "!git clone https://github.com/ultralytics/yolov5.git\n",
        "%cd /content/yolov5\n",
        "!pip install -r requirements.txt\n",
        "!pip install wandb==0.12.10"
      ]
    },
    {
      "cell_type": "code",
      "source": [
        "from google.colab import drive\n",
        "drive.mount('/content/drive')"
      ],
      "metadata": {
        "id": "gRyq9uuHZhAM"
      },
      "execution_count": null,
      "outputs": []
    },
    {
      "cell_type": "code",
      "source": [
        "# 上傳剛剛壓縮的檔案然後解壓縮\n",
        "# 想要直接嘗試也可以直接使用我先上傳的檔案 /content/drive/MyDrive/Yolov5\n",
        "!unzip /content/drive/MyDrive/Yolov5_ginger_tanshan/offical/custom_dataset.zip "
      ],
      "metadata": {
        "id": "dUW1MqgnE-rz",
        "colab": {
          "base_uri": "https://localhost:8080/"
        },
        "outputId": "f56b96ef-d42a-4450-a188-bef7fc2bddc2"
      },
      "execution_count": null,
      "outputs": [
        {
          "output_type": "stream",
          "name": "stdout",
          "text": [
            "Archive:  /content/drive/MyDrive/Yolov5_ginger_tanshan/offical/custom_dataset.zip\n",
            "warning [/content/drive/MyDrive/Yolov5_ginger_tanshan/offical/custom_dataset.zip]:  2950127911 extra bytes at beginning or within zipfile\n",
            "  (attempting to process anyway)\n",
            "error [/content/drive/MyDrive/Yolov5_ginger_tanshan/offical/custom_dataset.zip]:  start of central directory not found;\n",
            "  zipfile corrupt.\n",
            "  (please check that you have transferred or created the zipfile in the\n",
            "  appropriate BINARY mode and that you have compiled UnZip properly)\n"
          ]
        }
      ]
    },
    {
      "cell_type": "code",
      "source": [
        "# 改一下名稱跟個數\n",
        "import json\n",
        "import yaml\n",
        "data ={\n",
        "'names':[\"白芍\", \"陳皮\", \"川芎\", \"當歸\", \"當歸尾\", \"杜仲\",\n",
        "            \"何首烏\", \"熟地\", \"肉蓯蓉\", \"狗脊\", \"雞血藤\", \"黃精\", \"枸杞\",\n",
        "            \"桂枝\", \"黑棗\", \"紅耆\", \"紅棗\", \"膨大海\", \"黃耆\", \"玉竹\",\n",
        "            \"珠貝\", \"薑黃\", \"狗尾草\", \"一條根\", \"薑片\", \"菊花\", \"棉黃耆\",\n",
        "            \"人蔘片\", \"人蔘鬚\", \"肉桂\", \"三七\", \"黨蔘\", \"天麻\", \"沒藥\", \"乳香\"],\n",
        "'nc': 35,\n",
        "'train': \"/content/drive/MyDrive/Yolov5_ginger_tanshan/offical/custom_dataset/train/\",\n",
        "'val': \"/content/drive/MyDrive/Yolov5_ginger_tanshan/offical/custom_dataset/val/\",\n",
        " }\n",
        "with open('/content/yolov5/data/custom_dataset.yaml', 'w') as outfile:\n",
        "    yaml.dump(data, outfile)"
      ],
      "metadata": {
        "id": "o9OtgPsTFESr"
      },
      "execution_count": 2,
      "outputs": []
    },
    {
      "cell_type": "code",
      "source": [
        "!python /content/yolov5/utils/loggers/wandb/log_dataset.py --project offical_V2 --data /content/yolov5/data/custom_dataset.yaml"
      ],
      "metadata": {
        "id": "Bv0qvt75GKcN",
        "colab": {
          "base_uri": "https://localhost:8080/"
        },
        "outputId": "b7f5b0bf-13b7-4e5e-aaa2-e37415467c89"
      },
      "execution_count": 7,
      "outputs": [
        {
          "output_type": "stream",
          "name": "stdout",
          "text": [
            "\u001b[34m\u001b[1mwandb\u001b[0m: (1) Create a W&B account\n",
            "\u001b[34m\u001b[1mwandb\u001b[0m: (2) Use an existing W&B account\n",
            "\u001b[34m\u001b[1mwandb\u001b[0m: (3) Don't visualize my results\n",
            "\u001b[34m\u001b[1mwandb\u001b[0m: Enter your choice: 2\n",
            "\u001b[34m\u001b[1mwandb\u001b[0m: You chose 'Use an existing W&B account'\n",
            "\u001b[34m\u001b[1mwandb\u001b[0m: You can find your API key in your browser here: https://wandb.ai/authorize\n",
            "\u001b[34m\u001b[1mwandb\u001b[0m: Paste an API key from your profile and hit enter, or press ctrl+c to quit: \n",
            "\u001b[34m\u001b[1mwandb\u001b[0m: Appending key for api.wandb.ai to your netrc file: /root/.netrc\n",
            "\u001b[34m\u001b[1mwandb\u001b[0m: wandb version 0.12.21 is available!  To upgrade, please run:\n",
            "\u001b[34m\u001b[1mwandb\u001b[0m:  $ pip install wandb --upgrade\n",
            "\u001b[34m\u001b[1mwandb\u001b[0m: Tracking run with wandb version 0.12.10\n",
            "\u001b[34m\u001b[1mwandb\u001b[0m: Syncing run \u001b[33mlog dataset\u001b[0m\n",
            "\u001b[34m\u001b[1mwandb\u001b[0m: ⭐️ View project at \u001b[34m\u001b[4mhttps://wandb.ai/jonahyuan1029/offical_V2\u001b[0m\n",
            "\u001b[34m\u001b[1mwandb\u001b[0m: 🚀 View run at \u001b[34m\u001b[4mhttps://wandb.ai/jonahyuan1029/offical_V2/runs/3jx0k0ab\u001b[0m\n",
            "\u001b[34m\u001b[1mwandb\u001b[0m: Run data is saved locally in /content/yolov5/wandb/run-20220720_020132-3jx0k0ab\n",
            "\u001b[34m\u001b[1mwandb\u001b[0m: Run `wandb offline` to turn off syncing.\n",
            "\n",
            "Scanning '/content/drive/MyDrive/Yolov5_ginger_tanshan/offical/custom_dataset/train.cache' images and labels... 3675 found, 0 missing, 0 empty, 0 corrupt: 100% 3675/3675 [00:00<?, ?it/s]\n",
            "  0% 0/1 [00:00<?, ?it/s]\u001b[34m\u001b[1mwandb\u001b[0m: Adding directory to artifact (/content/drive/MyDrive/Yolov5_ginger_tanshan/offical/custom_dataset/train)... Done. 515.0s\n",
            "\u001b[34m\u001b[1mwandb\u001b[0m: Adding directory to artifact (/content/drive/MyDrive/Yolov5_ginger_tanshan/offical/custom_dataset/train)... Done. 67.5s\n",
            "100% 1/1 [09:42<00:00, 582.42s/it]\n",
            "100% 3675/3675 [18:18<00:00,  3.35it/s]\n",
            "Scanning '/content/drive/MyDrive/Yolov5_ginger_tanshan/offical/custom_dataset/val.cache' images and labels... 919 found, 0 missing, 0 empty, 0 corrupt: 100% 919/919 [00:00<?, ?it/s]\n",
            "  0% 0/1 [00:00<?, ?it/s]\u001b[34m\u001b[1mwandb\u001b[0m: Adding directory to artifact (/content/drive/MyDrive/Yolov5_ginger_tanshan/offical/custom_dataset/val)... Done. 40.7s\n",
            "\u001b[34m\u001b[1mwandb\u001b[0m: Adding directory to artifact (/content/drive/MyDrive/Yolov5_ginger_tanshan/offical/custom_dataset/val)... Done. 4.6s\n",
            "100% 1/1 [00:45<00:00, 45.31s/it]\n",
            "100% 919/919 [04:21<00:00,  3.51it/s]\n",
            "Created dataset config file /content/yolov5/data/custom_dataset_wandb.yaml\n",
            "\n",
            "\u001b[34m\u001b[1mwandb\u001b[0m: Waiting for W&B process to finish, PID 531... (success).\n",
            "\u001b[34m\u001b[1mwandb\u001b[0m: W&B sync reduced upload amount by 99.9%             \n",
            "\u001b[34m\u001b[1mwandb\u001b[0m:                                                                                \n",
            "\u001b[34m\u001b[1mwandb\u001b[0m: Synced 5 W&B file(s), 0 media file(s), 9191 artifact file(s) and 0 other file(s)\n",
            "\u001b[34m\u001b[1mwandb\u001b[0m: Synced \u001b[33mlog dataset\u001b[0m: \u001b[34mhttps://wandb.ai/jonahyuan1029/offical_V2/runs/3jx0k0ab\u001b[0m\n",
            "\u001b[34m\u001b[1mwandb\u001b[0m: Find logs at: ./wandb/run-20220720_020132-3jx0k0ab/logs/debug.log\n",
            "\u001b[34m\u001b[1mwandb\u001b[0m: \n"
          ]
        }
      ]
    },
    {
      "cell_type": "code",
      "source": [
        "# 手癢也可以試試yolov5m.pt, yolov5l.pt, yolov5x.pt\n",
        "!python train.py \\\n",
        "  --data custom_dataset.yaml \\\n",
        "  --epochs 10 \\\n",
        "  --project offical_V2 \\\n",
        "  --bbox_interval 1 \\\n",
        "  --save-period 1 \\\n",
        "  --weights V1.pt "
      ],
      "metadata": {
        "id": "ZBuBYqC6Jnuq",
        "colab": {
          "base_uri": "https://localhost:8080/"
        },
        "outputId": "2b9d5204-42c5-4a3b-a6e0-c400d58c0577"
      },
      "execution_count": null,
      "outputs": [
        {
          "output_type": "stream",
          "name": "stdout",
          "text": [
            "\u001b[34m\u001b[1mwandb\u001b[0m: Currently logged in as: \u001b[33mjonahyuan1029\u001b[0m (use `wandb login --relogin` to force relogin)\n",
            "\u001b[34m\u001b[1mtrain: \u001b[0mweights=V1.pt, cfg=, data=custom_dataset.yaml, hyp=data/hyps/hyp.scratch-low.yaml, epochs=10, batch_size=16, imgsz=640, rect=False, resume=False, nosave=False, noval=False, noautoanchor=False, noplots=False, evolve=None, bucket=, cache=None, image_weights=False, device=, multi_scale=False, single_cls=False, optimizer=SGD, sync_bn=False, workers=8, project=offical_V2, name=exp, exist_ok=False, quad=False, cos_lr=False, label_smoothing=0.0, patience=100, freeze=[0], save_period=1, seed=0, local_rank=-1, entity=None, upload_dataset=False, bbox_interval=1, artifact_alias=latest\n",
            "\u001b[34m\u001b[1mgithub: \u001b[0mup to date with https://github.com/ultralytics/yolov5 ✅\n",
            "YOLOv5 🚀 v6.1-307-g92e47b8 Python-3.7.13 torch-1.12.0+cu113 CUDA:0 (Tesla T4, 15110MiB)\n",
            "\n",
            "\u001b[34m\u001b[1mhyperparameters: \u001b[0mlr0=0.01, lrf=0.01, momentum=0.937, weight_decay=0.0005, warmup_epochs=3.0, warmup_momentum=0.8, warmup_bias_lr=0.1, box=0.05, cls=0.5, cls_pw=1.0, obj=1.0, obj_pw=1.0, iou_t=0.2, anchor_t=4.0, fl_gamma=0.0, hsv_h=0.015, hsv_s=0.7, hsv_v=0.4, degrees=0.0, translate=0.1, scale=0.5, shear=0.0, perspective=0.0, flipud=0.0, fliplr=0.5, mosaic=1.0, mixup=0.0, copy_paste=0.0\n",
            "\u001b[34m\u001b[1mTensorBoard: \u001b[0mStart with 'tensorboard --logdir offical_V2', view at http://localhost:6006/\n",
            "\u001b[34m\u001b[1mwandb\u001b[0m: wandb version 0.12.21 is available!  To upgrade, please run:\n",
            "\u001b[34m\u001b[1mwandb\u001b[0m:  $ pip install wandb --upgrade\n",
            "\u001b[34m\u001b[1mwandb\u001b[0m: Tracking run with wandb version 0.12.10\n",
            "\u001b[34m\u001b[1mwandb\u001b[0m: Syncing run \u001b[33mrose-morning-4\u001b[0m\n",
            "\u001b[34m\u001b[1mwandb\u001b[0m: ⭐️ View project at \u001b[34m\u001b[4mhttps://wandb.ai/jonahyuan1029/offical_V2\u001b[0m\n",
            "\u001b[34m\u001b[1mwandb\u001b[0m: 🚀 View run at \u001b[34m\u001b[4mhttps://wandb.ai/jonahyuan1029/offical_V2/runs/2bbdhsie\u001b[0m\n",
            "\u001b[34m\u001b[1mwandb\u001b[0m: Run data is saved locally in /content/yolov5/wandb/run-20220720_060830-2bbdhsie\n",
            "\u001b[34m\u001b[1mwandb\u001b[0m: Run `wandb offline` to turn off syncing.\n",
            "\n",
            "\n",
            "                 from  n    params  module                                  arguments                     \n",
            "  0                -1  1      3520  models.common.Conv                      [3, 32, 6, 2, 2]              \n",
            "  1                -1  1     18560  models.common.Conv                      [32, 64, 3, 2]                \n",
            "  2                -1  1     18816  models.common.C3                        [64, 64, 1]                   \n",
            "  3                -1  1     73984  models.common.Conv                      [64, 128, 3, 2]               \n",
            "  4                -1  2    115712  models.common.C3                        [128, 128, 2]                 \n",
            "  5                -1  1    295424  models.common.Conv                      [128, 256, 3, 2]              \n",
            "  6                -1  3    625152  models.common.C3                        [256, 256, 3]                 \n",
            "  7                -1  1   1180672  models.common.Conv                      [256, 512, 3, 2]              \n",
            "  8                -1  1   1182720  models.common.C3                        [512, 512, 1]                 \n",
            "  9                -1  1    656896  models.common.SPPF                      [512, 512, 5]                 \n",
            " 10                -1  1    131584  models.common.Conv                      [512, 256, 1, 1]              \n",
            " 11                -1  1         0  torch.nn.modules.upsampling.Upsample    [None, 2, 'nearest']          \n",
            " 12           [-1, 6]  1         0  models.common.Concat                    [1]                           \n",
            " 13                -1  1    361984  models.common.C3                        [512, 256, 1, False]          \n",
            " 14                -1  1     33024  models.common.Conv                      [256, 128, 1, 1]              \n",
            " 15                -1  1         0  torch.nn.modules.upsampling.Upsample    [None, 2, 'nearest']          \n",
            " 16           [-1, 4]  1         0  models.common.Concat                    [1]                           \n",
            " 17                -1  1     90880  models.common.C3                        [256, 128, 1, False]          \n",
            " 18                -1  1    147712  models.common.Conv                      [128, 128, 3, 2]              \n",
            " 19          [-1, 14]  1         0  models.common.Concat                    [1]                           \n",
            " 20                -1  1    296448  models.common.C3                        [256, 256, 1, False]          \n",
            " 21                -1  1    590336  models.common.Conv                      [256, 256, 3, 2]              \n",
            " 22          [-1, 10]  1         0  models.common.Concat                    [1]                           \n",
            " 23                -1  1   1182720  models.common.C3                        [512, 512, 1, False]          \n",
            " 24      [17, 20, 23]  1    107880  models.yolo.Detect                      [35, [[10, 13, 16, 30, 33, 23], [30, 61, 62, 45, 59, 119], [116, 90, 156, 198, 373, 326]], [128, 256, 512]]\n",
            "Model summary: 270 layers, 7114024 parameters, 7114024 gradients, 16.2 GFLOPs\n",
            "\n",
            "Transferred 349/349 items from V1.pt\n",
            "\u001b[34m\u001b[1mAMP: \u001b[0mchecks passed ✅\n",
            "Scaled weight_decay = 0.0005\n",
            "\u001b[34m\u001b[1moptimizer:\u001b[0m SGD with parameter groups 57 weight (no decay), 60 weight, 60 bias\n",
            "\u001b[34m\u001b[1malbumentations: \u001b[0mversion 1.0.3 required by YOLOv5, but version 0.1.12 is currently installed\n",
            "\u001b[34m\u001b[1mtrain: \u001b[0mScanning '/content/drive/MyDrive/Yolov5_ginger_tanshan/offical/custom_dataset/train.cache' images and labels... 3675 found, 0 missing, 0 empty, 0 corrupt: 100% 3675/3675 [00:00<?, ?it/s]\n",
            "\u001b[34m\u001b[1mval: \u001b[0mScanning '/content/drive/MyDrive/Yolov5_ginger_tanshan/offical/custom_dataset/val.cache' images and labels... 919 found, 0 missing, 0 empty, 0 corrupt: 100% 919/919 [00:00<?, ?it/s]\n",
            "Plotting labels to offical_V2/exp2/labels.jpg... \n",
            "\n",
            "\u001b[34m\u001b[1mAutoAnchor: \u001b[0m4.57 anchors/target, 1.000 Best Possible Recall (BPR). Current anchors are a good fit to dataset ✅\n",
            "Image sizes 640 train, 640 val\n",
            "Using 2 dataloader workers\n",
            "Logging results to \u001b[1moffical_V2/exp2\u001b[0m\n",
            "Starting training for 10 epochs...\n",
            "\n",
            "     Epoch   gpu_mem       box       obj       cls    labels  img_size\n",
            "       4/9     3.68G   0.03995   0.02789   0.03914        62       640: 100% 230/230 [35:43<00:00,  9.32s/it]\n",
            "               Class     Images     Labels          P          R     mAP@.5 mAP@.5:.95: 100% 29/29 [02:04<00:00,  4.28s/it]\n",
            "                 all        919       2373      0.509      0.609      0.546      0.337\n",
            "Saving model artifact on epoch 5\n",
            "\n",
            "     Epoch   gpu_mem       box       obj       cls    labels  img_size\n",
            "       5/9     4.86G   0.03605   0.02704     0.032        53       640: 100% 230/230 [25:32<00:00,  6.66s/it]\n",
            "               Class     Images     Labels          P          R     mAP@.5 mAP@.5:.95: 100% 29/29 [02:02<00:00,  4.24s/it]\n",
            "                 all        919       2373      0.596      0.676      0.647      0.423\n",
            "Saving model artifact on epoch 6\n",
            "\n",
            "     Epoch   gpu_mem       box       obj       cls    labels  img_size\n",
            "       6/9     4.86G   0.03396   0.02637   0.02705        64       640: 100% 230/230 [25:38<00:00,  6.69s/it]\n",
            "               Class     Images     Labels          P          R     mAP@.5 mAP@.5:.95: 100% 29/29 [02:05<00:00,  4.33s/it]\n",
            "                 all        919       2373      0.633      0.723      0.703      0.462\n",
            "Saving model artifact on epoch 7\n",
            "\n",
            "     Epoch   gpu_mem       box       obj       cls    labels  img_size\n",
            "       7/9     4.86G   0.03233   0.02626   0.02264        70       640:  76% 175/230 [19:24<04:50,  5.28s/it]\u001b[34m\u001b[1mwandb\u001b[0m: Network error (ReadTimeout), entering retry loop.\n",
            "       7/9     4.86G   0.03241   0.02605   0.02205        50       640: 100% 230/230 [25:33<00:00,  6.67s/it]\n",
            "               Class     Images     Labels          P          R     mAP@.5 mAP@.5:.95: 100% 29/29 [02:01<00:00,  4.18s/it]\n",
            "                 all        919       2373      0.783      0.746      0.782      0.511\n",
            "Saving model artifact on epoch 8\n",
            "\n",
            "     Epoch   gpu_mem       box       obj       cls    labels  img_size\n",
            "       8/9     4.86G   0.03038   0.02523   0.01983       119       640:  19% 44/230 [04:50<20:18,  6.55s/it]\u001b[34m\u001b[1mwandb\u001b[0m: Network error (ReadTimeout), entering retry loop.\n",
            "       8/9     4.86G   0.03051   0.02538   0.01936        52       640: 100% 230/230 [25:36<00:00,  6.68s/it]\n",
            "               Class     Images     Labels          P          R     mAP@.5 mAP@.5:.95: 100% 29/29 [02:06<00:00,  4.38s/it]\n",
            "                 all        919       2373      0.748       0.79      0.807       0.57\n",
            "Saving model artifact on epoch 9\n",
            "\n",
            "     Epoch   gpu_mem       box       obj       cls    labels  img_size\n",
            "       9/9     4.86G   0.02779   0.02841   0.02038        80       640:   3% 7/230 [00:48<41:17, 11.11s/it]"
          ]
        }
      ]
    },
    {
      "cell_type": "code",
      "source": [
        "# 訓練完之後到W&B的網頁，進入project，選擇名字最不一樣的\n",
        "# 左邊有一個Artifacts，點一下\n",
        "# 找到Type為model以後點一下(右邊有箭頭可以換頁)\n",
        "# 切換到Files的頁面，有一個pt檔，下載下來\n",
        "# 下載完看你要不要改名(隨意)，丟回來yolov5的資料夾"
      ],
      "metadata": {
        "id": "7lxvoimFOkzX"
      },
      "execution_count": null,
      "outputs": []
    },
    {
      "cell_type": "code",
      "source": [
        "!python /content/yolov5/detect.py --source yujhu_0097.jpeg --weights V1-1.pt"
      ],
      "metadata": {
        "id": "ihKHCgfcQad1",
        "colab": {
          "base_uri": "https://localhost:8080/"
        },
        "outputId": "2376cf70-f3a8-4c66-beff-0c1286998475"
      },
      "execution_count": 8,
      "outputs": [
        {
          "output_type": "stream",
          "name": "stdout",
          "text": [
            "\u001b[34m\u001b[1mdetect: \u001b[0mweights=['V1-1.pt'], source=yujhu_0097.jpeg, data=data/coco128.yaml, imgsz=[640, 640], conf_thres=0.25, iou_thres=0.45, max_det=1000, device=, view_img=False, save_txt=False, save_conf=False, save_crop=False, nosave=False, classes=None, agnostic_nms=False, augment=False, visualize=False, update=False, project=runs/detect, name=exp, exist_ok=False, line_thickness=3, hide_labels=False, hide_conf=False, half=False, dnn=False\n",
            "YOLOv5 🚀 v6.1-307-g92e47b8 Python-3.7.13 torch-1.12.0+cu113 CPU\n",
            "\n",
            "Fusing layers... \n",
            "Model summary: 213 layers, 7104520 parameters, 0 gradients, 16.0 GFLOPs\n",
            "image 1/1 /content/yolov5/yujhu_0097.jpeg: 480x640 1 玉竹, Done. (0.285s)\n",
            "Speed: 1.4ms pre-process, 285.3ms inference, 1.3ms NMS per image at shape (1, 3, 640, 640)\n",
            "Results saved to \u001b[1mruns/detect/exp5\u001b[0m\n"
          ]
        }
      ]
    },
    {
      "cell_type": "code",
      "source": [
        "# 偵測完的結果就會存在runs/detect/裡面\n",
        "/wandb-artifact://wandb/\n",
        "/wandb-artifact://wandb/"
      ],
      "metadata": {
        "id": "_J5wLt8XRFEI"
      },
      "execution_count": null,
      "outputs": []
    }
  ]
}