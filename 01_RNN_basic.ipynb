{
  "nbformat": 4,
  "nbformat_minor": 0,
  "metadata": {
    "colab": {
      "name": "01_RNN basic.ipynb",
      "provenance": [],
      "collapsed_sections": [],
      "include_colab_link": true
    },
    "kernelspec": {
      "name": "python3",
      "display_name": "Python 3"
    }
  },
  "cells": [
    {
      "cell_type": "markdown",
      "metadata": {
        "id": "view-in-github",
        "colab_type": "text"
      },
      "source": [
        "<a href=\"https://colab.research.google.com/github/jonahyuan/AI-learning/blob/main/01_RNN_basic.ipynb\" target=\"_parent\"><img src=\"https://colab.research.google.com/assets/colab-badge.svg\" alt=\"Open In Colab\"/></a>"
      ]
    },
    {
      "cell_type": "code",
      "metadata": {
        "id": "7MQTJpgXIZTb"
      },
      "source": [
        "import tensorflow as tf\n",
        "from tensorflow.keras import layers, models"
      ],
      "execution_count": 1,
      "outputs": []
    },
    {
      "cell_type": "code",
      "metadata": {
        "id": "MyuU_zLAQTZ2",
        "colab": {
          "base_uri": "https://localhost:8080/"
        },
        "outputId": "5baefa3b-daaa-4aae-a68f-a57897bed91d"
      },
      "source": [
        "# Sample(batch) size: 1\n",
        "# Sequence Length: 5\n",
        "# feature dimension: 8\n",
        "\n",
        "inputs = tf.random.normal([1, 5, 8])\n",
        "inputs.shape"
      ],
      "execution_count": 7,
      "outputs": [
        {
          "output_type": "execute_result",
          "data": {
            "text/plain": [
              "TensorShape([1, 5, 8])"
            ]
          },
          "metadata": {},
          "execution_count": 7
        }
      ]
    },
    {
      "cell_type": "code",
      "source": [
        ""
      ],
      "metadata": {
        "id": "W2iLaEkwFNI9"
      },
      "execution_count": 8,
      "outputs": []
    },
    {
      "cell_type": "markdown",
      "metadata": {
        "id": "atmpBvPyLWCJ"
      },
      "source": [
        "# tf.keras.layers.LSTM"
      ]
    },
    {
      "cell_type": "code",
      "metadata": {
        "id": "ad4M9eEwIddc",
        "colab": {
          "base_uri": "https://localhost:8080/"
        },
        "outputId": "543ec7a1-6cf0-4ea8-9746-e1d47109f362"
      },
      "source": [
        "output = layers.LSTM(units=3)(inputs)\n",
        "output2 = layers.LSTM(units=3, return_sequences=True)(inputs)\n",
        "print(output.shape) # (batch size, feature dim)\n",
        "print(output2.shape) # (batch size, seq length, feature dim)"
      ],
      "execution_count": 8,
      "outputs": [
        {
          "output_type": "stream",
          "name": "stdout",
          "text": [
            "(1, 3)\n",
            "(1, 5, 3)\n"
          ]
        }
      ]
    },
    {
      "cell_type": "code",
      "metadata": {
        "id": "_t8D3p7dJ0vg",
        "colab": {
          "base_uri": "https://localhost:8080/"
        },
        "outputId": "b215095e-a0be-47df-a151-1a6598de7967"
      },
      "source": [
        "whole_seq_output, final_hiden_state, final_cell_state = layers.LSTM(units=3, \n",
        "                                    return_sequences=True, \n",
        "                                    return_state=True)(inputs)\n",
        "\n",
        "print('whole_seq_output: ', whole_seq_output.shape, whole_seq_output)\n",
        "print('final_hiden_state (h): ', final_hiden_state.shape, final_hiden_state)\n",
        "print('final_cell_state (c): ', final_cell_state.shape, final_cell_state)"
      ],
      "execution_count": 9,
      "outputs": [
        {
          "output_type": "stream",
          "name": "stdout",
          "text": [
            "whole_seq_output:  (1, 5, 3) tf.Tensor(\n",
            "[[[ 0.31856534  0.16057138 -0.05621225]\n",
            "  [ 0.10652287  0.17176747  0.11731825]\n",
            "  [ 0.11528575  0.3920101  -0.00341319]\n",
            "  [ 0.12605466  0.17167641 -0.11784741]\n",
            "  [ 0.17258821  0.1490932  -0.07279466]]], shape=(1, 5, 3), dtype=float32)\n",
            "final_hiden_state (h):  (1, 3) tf.Tensor([[ 0.17258821  0.1490932  -0.07279466]], shape=(1, 3), dtype=float32)\n",
            "final_cell_state (c):  (1, 3) tf.Tensor([[ 0.31824067  0.66747427 -0.23019215]], shape=(1, 3), dtype=float32)\n"
          ]
        }
      ]
    },
    {
      "cell_type": "markdown",
      "metadata": {
        "id": "Cf8aLad2LX9w"
      },
      "source": [
        "# tf.keras.layers.GRU"
      ]
    },
    {
      "cell_type": "code",
      "metadata": {
        "id": "9xxagyy9LYt_",
        "colab": {
          "base_uri": "https://localhost:8080/"
        },
        "outputId": "26217bf6-14b0-49e9-a577-f403b2c5ca71"
      },
      "source": [
        "output = layers.GRU(units=3)(inputs)\n",
        "print(output.shape)"
      ],
      "execution_count": 10,
      "outputs": [
        {
          "output_type": "stream",
          "name": "stdout",
          "text": [
            "(1, 3)\n"
          ]
        }
      ]
    },
    {
      "cell_type": "code",
      "metadata": {
        "id": "x2THpViELlO5",
        "colab": {
          "base_uri": "https://localhost:8080/"
        },
        "outputId": "bab1361d-16a4-430f-9cb9-8b25468e6346"
      },
      "source": [
        "whole_sequence_output, final_state = layers.GRU(3, \n",
        "                                                return_sequences=True, \n",
        "                                                return_state=True)(inputs)\n",
        "\n",
        "print('whole_seq_output: ', whole_sequence_output.shape, whole_sequence_output)\n",
        "print('final_state (h): ', final_state.shape, final_state)"
      ],
      "execution_count": 11,
      "outputs": [
        {
          "output_type": "stream",
          "name": "stdout",
          "text": [
            "whole_seq_output:  (1, 5, 3) tf.Tensor(\n",
            "[[[-0.27897793  0.2748221  -0.0780917 ]\n",
            "  [-0.3488952   0.38123488 -0.13137235]\n",
            "  [-0.27987546  0.10400359 -0.17405552]\n",
            "  [-0.2157981   0.10614604 -0.64313424]\n",
            "  [-0.02492946  0.43839735 -0.42062473]]], shape=(1, 5, 3), dtype=float32)\n",
            "final_state (h):  (1, 3) tf.Tensor([[-0.02492946  0.43839735 -0.42062473]], shape=(1, 3), dtype=float32)\n"
          ]
        }
      ]
    },
    {
      "cell_type": "markdown",
      "metadata": {
        "id": "BLcEAbfIM7IT"
      },
      "source": [
        "# tf.keras.layers.Bidirectional"
      ]
    },
    {
      "cell_type": "code",
      "metadata": {
        "id": "8aDkLkxeM-XQ",
        "colab": {
          "base_uri": "https://localhost:8080/"
        },
        "outputId": "2f969163-db3a-46aa-f5f3-dad79f9a1032"
      },
      "source": [
        "output = layers.Bidirectional(layers.LSTM(3))(inputs)\n",
        "print(output.shape)"
      ],
      "execution_count": 12,
      "outputs": [
        {
          "output_type": "stream",
          "name": "stdout",
          "text": [
            "(1, 6)\n"
          ]
        }
      ]
    },
    {
      "cell_type": "code",
      "metadata": {
        "id": "fMQkgBJ3NYeO",
        "colab": {
          "base_uri": "https://localhost:8080/"
        },
        "outputId": "769f6ce7-7c0b-4853-a2f6-9ce4d85992ad"
      },
      "source": [
        "# merge_mode: 'sum' or 'concat'\n",
        "output = layers.Bidirectional(layers.LSTM(3), \n",
        "                merge_mode='sum')(inputs)\n",
        "print(output.shape)"
      ],
      "execution_count": 14,
      "outputs": [
        {
          "output_type": "stream",
          "name": "stdout",
          "text": [
            "(1, 3)\n"
          ]
        }
      ]
    },
    {
      "cell_type": "code",
      "metadata": {
        "id": "pbBbk7e7NqOK",
        "colab": {
          "base_uri": "https://localhost:8080/"
        },
        "outputId": "87e6071b-4da4-4d1d-ad70-7d58484435ed"
      },
      "source": [
        "# return_sequences: True\n",
        "output = layers.Bidirectional(layers.LSTM(3, return_sequences=True))(inputs)\n",
        "print(output.shape)"
      ],
      "execution_count": 15,
      "outputs": [
        {
          "output_type": "stream",
          "name": "stdout",
          "text": [
            "(1, 5, 6)\n"
          ]
        }
      ]
    },
    {
      "cell_type": "code",
      "metadata": {
        "id": "u3Kh1ZkPNwtA",
        "colab": {
          "base_uri": "https://localhost:8080/"
        },
        "outputId": "d03e197a-8897-4878-f1c5-511ef6c98f44"
      },
      "source": [
        "# return_sequences: True, \n",
        "output, forward_h, forward_c, backward_h, backward_c = layers.Bidirectional(layers.LSTM(3, \n",
        "                                        return_sequences=True, \n",
        "                                        return_state=True))(inputs)\n",
        "print('output : ', output.shape, output)\n",
        "print('forward_h : ', forward_h.shape, forward_h)\n",
        "print('forward_c : ', forward_c.shape, forward_c)\n",
        "print('backward_h : ', backward_h.shape, backward_h)\n",
        "print('backward_c : ', backward_c.shape, backward_c)\n"
      ],
      "execution_count": 16,
      "outputs": [
        {
          "output_type": "stream",
          "name": "stdout",
          "text": [
            "output :  (1, 5, 6) tf.Tensor(\n",
            "[[[-0.00176525  0.0965874   0.11226808  0.19828662 -0.06742185\n",
            "    0.21241425]\n",
            "  [-0.47356242  0.17757232  0.13894878  0.02178642 -0.12409721\n",
            "    0.22645907]\n",
            "  [-0.28605255  0.3405394   0.08328305  0.57680625  0.06336416\n",
            "    0.01047394]\n",
            "  [-0.08044696  0.1830515   0.18109919  0.32229722  0.1637661\n",
            "   -0.02895554]\n",
            "  [-0.02617154  0.02284603  0.0656488   0.03101021 -0.00366895\n",
            "    0.14665459]]], shape=(1, 5, 6), dtype=float32)\n",
            "forward_h :  (1, 3) tf.Tensor([[-0.02617154  0.02284603  0.0656488 ]], shape=(1, 3), dtype=float32)\n",
            "forward_c :  (1, 3) tf.Tensor([[-0.10588103  0.0461117   0.09769522]], shape=(1, 3), dtype=float32)\n",
            "backward_h :  (1, 3) tf.Tensor([[ 0.19828662 -0.06742185  0.21241425]], shape=(1, 3), dtype=float32)\n",
            "backward_c :  (1, 3) tf.Tensor([[ 0.26249495 -0.12688397  0.39798   ]], shape=(1, 3), dtype=float32)\n"
          ]
        }
      ]
    },
    {
      "cell_type": "markdown",
      "metadata": {
        "id": "kLmti2QISYyV"
      },
      "source": [
        "## Many-to-one"
      ]
    },
    {
      "cell_type": "code",
      "metadata": {
        "id": "mLX9Rho9SbbC",
        "colab": {
          "base_uri": "https://localhost:8080/"
        },
        "outputId": "bcba9ccf-9b57-4920-9e94-1e3abfc1fe77"
      },
      "source": [
        "input = layers.Input(shape=(5, 8)) # (seq len, feature dim)\n",
        "x = layers.LSTM(3)(input)\n",
        "ouput = layers.Dense(10, activation='softmax')(x)\n",
        "model = models.Model(input, ouput)\n",
        "model.summary()"
      ],
      "execution_count": 25,
      "outputs": [
        {
          "output_type": "stream",
          "name": "stdout",
          "text": [
            "Model: \"model_8\"\n",
            "_________________________________________________________________\n",
            " Layer (type)                Output Shape              Param #   \n",
            "=================================================================\n",
            " input_9 (InputLayer)        [(None, 5, 8)]            0         \n",
            "                                                                 \n",
            " lstm_25 (LSTM)              (None, 3)                 144       \n",
            "                                                                 \n",
            " dense_8 (Dense)             (None, 10)                40        \n",
            "                                                                 \n",
            "=================================================================\n",
            "Total params: 184\n",
            "Trainable params: 184\n",
            "Non-trainable params: 0\n",
            "_________________________________________________________________\n"
          ]
        }
      ]
    },
    {
      "cell_type": "code",
      "metadata": {
        "id": "XT1W5B-2Td0m",
        "colab": {
          "base_uri": "https://localhost:8080/"
        },
        "outputId": "119242d2-9566-43dd-ea91-3f67ceda1742"
      },
      "source": [
        "# multi-layer\n",
        "input = layers.Input(shape=(5, 8))\n",
        "x1 = layers.LSTM(128, return_sequences=True)(input)\n",
        "x2 = layers.LSTM(256, return_sequences=True)(x1)\n",
        "x3 = layers.LSTM(512)(x2)\n",
        "ouput = layers.Dense(10, activation='softmax')(x3)\n",
        "model = models.Model(input, ouput)\n",
        "model.summary()"
      ],
      "execution_count": 19,
      "outputs": [
        {
          "output_type": "stream",
          "name": "stdout",
          "text": [
            "Model: \"model_2\"\n",
            "_________________________________________________________________\n",
            " Layer (type)                Output Shape              Param #   \n",
            "=================================================================\n",
            " input_3 (InputLayer)        [(None, 5, 8)]            0         \n",
            "                                                                 \n",
            " lstm_17 (LSTM)              (None, 5, 128)            70144     \n",
            "                                                                 \n",
            " lstm_18 (LSTM)              (None, 5, 256)            394240    \n",
            "                                                                 \n",
            " lstm_19 (LSTM)              (None, 512)               1574912   \n",
            "                                                                 \n",
            " dense_2 (Dense)             (None, 10)                5130      \n",
            "                                                                 \n",
            "=================================================================\n",
            "Total params: 2,044,426\n",
            "Trainable params: 2,044,426\n",
            "Non-trainable params: 0\n",
            "_________________________________________________________________\n"
          ]
        }
      ]
    },
    {
      "cell_type": "code",
      "metadata": {
        "id": "XNoebK2JTsMN"
      },
      "source": [
        ""
      ],
      "execution_count": null,
      "outputs": []
    },
    {
      "cell_type": "markdown",
      "metadata": {
        "id": "xgYNk_0dUVyE"
      },
      "source": [
        "# Many-to-many (same length)"
      ]
    },
    {
      "cell_type": "code",
      "metadata": {
        "id": "3ThPhdZVUkRM",
        "colab": {
          "base_uri": "https://localhost:8080/"
        },
        "outputId": "85bf21c0-7295-4890-dbfb-c81f0c72de0c"
      },
      "source": [
        "input = layers.Input(shape=(500, 8))\n",
        "x = layers.LSTM(10, \n",
        "          return_sequences=True)(input)\n",
        "          \n",
        "output = layers.Dense(20, activation='softmax')(x)\n",
        "model = models.Model(input, output)\n",
        "model.summary()"
      ],
      "execution_count": 21,
      "outputs": [
        {
          "output_type": "stream",
          "name": "stdout",
          "text": [
            "Model: \"model_4\"\n",
            "_________________________________________________________________\n",
            " Layer (type)                Output Shape              Param #   \n",
            "=================================================================\n",
            " input_5 (InputLayer)        [(None, 500, 8)]          0         \n",
            "                                                                 \n",
            " lstm_21 (LSTM)              (None, 500, 10)           760       \n",
            "                                                                 \n",
            " dense_4 (Dense)             (None, 500, 20)           220       \n",
            "                                                                 \n",
            "=================================================================\n",
            "Total params: 980\n",
            "Trainable params: 980\n",
            "Non-trainable params: 0\n",
            "_________________________________________________________________\n"
          ]
        }
      ]
    },
    {
      "cell_type": "markdown",
      "metadata": {
        "id": "ma9TzYCQWoh7"
      },
      "source": [
        "## Many-to-many (different length) : Seq2seq"
      ]
    },
    {
      "cell_type": "code",
      "metadata": {
        "id": "rN1gKJOzwkWd"
      },
      "source": [
        ""
      ],
      "execution_count": null,
      "outputs": []
    },
    {
      "cell_type": "code",
      "source": [
        "# Video RNN\n",
        "# 10sec, 30fps, (200,200,3)\n",
        "# (1, 300, 200, 200, 3): Video\n",
        "# (1, 300, 1024) : video frame feature\n",
        "\n",
        "\n"
      ],
      "metadata": {
        "id": "RRfLGYM_FOCx"
      },
      "execution_count": null,
      "outputs": []
    },
    {
      "cell_type": "code",
      "source": [
        "token\n",
        "\n",
        "The song was featured in the musical Can-Can when it was introduced by the French actress Lilo."
      ],
      "metadata": {
        "id": "UbxP2QBTGH2e"
      },
      "execution_count": null,
      "outputs": []
    },
    {
      "cell_type": "markdown",
      "source": [
        "token\n",
        "\n",
        "The song was featured in the musical Can-Can.\n",
        "\n",
        "Tokenize (word, character)"
      ],
      "metadata": {
        "id": "3TlOUR9fGdKe"
      }
    },
    {
      "cell_type": "code",
      "source": [
        "sentence = \"The song was featured in the musical Can-Can .\"\n",
        "sentence.split(' ')"
      ],
      "metadata": {
        "colab": {
          "base_uri": "https://localhost:8080/"
        },
        "id": "xusWluTzGsut",
        "outputId": "455a05a3-985d-4fbc-8ccb-d42677688de6"
      },
      "execution_count": null,
      "outputs": [
        {
          "output_type": "execute_result",
          "data": {
            "text/plain": [
              "['The', 'song', 'was', 'featured', 'in', 'the', 'musical', 'Can-Can', '.']"
            ]
          },
          "metadata": {},
          "execution_count": 12
        }
      ]
    },
    {
      "cell_type": "code",
      "source": [
        "\"粉絲數超過0的網紅\"\n",
        "中文：詞, 字\n",
        "\n",
        "斷詞: jieba\n",
        "\"粉絲, 數, 超過, 0, 的, 網紅\" (6, )\n",
        "\"粉絲數, 超過, 0, 的, 網紅\" (5, )\n",
        "\n",
        "斷字\n",
        "\"粉, 絲, 數, 超, 過, 0 , 的, 網 , 紅\"\n",
        "\n",
        "[120, 130, 200, 400, 222, 40]\n",
        "\n",
        "(1, 6)\n",
        "\n",
        "\n",
        "Embedding: convert token to vector\n",
        "128,\n",
        "\n",
        "(1, 6, 128)"
      ],
      "metadata": {
        "id": "4ejvVVwsGwJf"
      },
      "execution_count": null,
      "outputs": []
    },
    {
      "cell_type": "code",
      "source": [
        ""
      ],
      "metadata": {
        "id": "ABmd1Lz-H-Ld"
      },
      "execution_count": null,
      "outputs": []
    }
  ]
}